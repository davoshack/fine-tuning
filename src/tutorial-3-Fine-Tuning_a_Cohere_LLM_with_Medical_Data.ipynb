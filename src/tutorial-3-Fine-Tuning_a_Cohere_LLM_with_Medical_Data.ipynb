{
 "cells": [
  {
   "cell_type": "markdown",
   "metadata": {},
   "source": [
    "# Tutorial 3: Fine-Tuning a Cohere LLM with Medical Data\n",
    "\n",
    "• Find the dataset preparation  [Notebook](https://colab.research.google.com/github/towardsai/ragbook-notebooks/blob/main/notebooks/Chapter%2010%20-%20Create_Dataset_For_Cohere_Fine_Tuning.ipynb)  and the fine-tuning  [Notebook](https://colab.research.google.com/github/towardsai/ragbook-notebooks/blob/main/notebooks/Chapter%2010%20-%20Fine_Tuning_using_Cohere_for_Medical_Data.ipynb)  for this section at  [towardsai.net/book](http://towardsai.net/book).\n",
    "\n",
    "Using a proprietary model simplifies the fine-tuning process by simply supplying sample inputs and outputs, with the platform managing the actual fine-tuning. For example, in a classification model, a typical input would be a pair of <text, label>.\n",
    "\n",
    "Cohere offers a range of specialized models for specific use cases and different functions, including  [rerank](https://txt.cohere.com/rerank/),  [embedding](https://docs.cohere.com/docs/multilingual-language-models), and  [chat](https://cohere.com/chat), all accessible via APIs. Users can create  [custom models](https://txt.cohere.com/custom-command-models/)  for three primary objectives: 1) Generative tasks where the model produces text output, 2) Classification tasks where the model categorizes text, and 3) Rerank tasks to improve semantic search results.\n",
    "\n",
    "In this tutorial, we are fine-tuning a proprietary LLM developed by  [Cohere](https://cohere.com/)  for medical text analysis to perform  [Named Entity Recognition (NER)](https://en.wikipedia.org/wiki/Named-entity_recognition). NER enables models to recognize multiple entities in text, such as names, locations, and dates. We will fine-tune a model to extract information about diseases, substances, and their interactions from medical paper abstracts."
   ]
  },
  {
   "cell_type": "markdown",
   "metadata": {},
   "source": [
    "## Cohere API\n",
    "\n",
    "The Cohere platform provides a selection of base models designed for different purposes. You can choose between base models with quicker performance or command models with more advanced capabilities for generative tasks. Each type also has a “light” version for additional flexibility.\n",
    "\n",
    "[Create an account](https://dashboard.cohere.com/welcome/register)  on their platform to use the Cohere API at dashboard.cohere.com. Navigate to the “API Keys” section to obtain a Trial key, which allows free usage with certain rate limitations. This key is not for production environments but offers an excellent opportunity to experiment with the models before using them for production.\n",
    "\n",
    "Install the Cohere Python SDK to access their API:\n",
    "\n",
    "pip install cohere\n",
    "\n",
    "Build a Cohere object with your API key and a prompt to generate a response to your request. You can use the code below but change the API placeholder with your key:\n",
    "\n",
    "    pip install cohere\n",
    "\n",
    "Build a Cohere object with your API key and a prompt to generate a response to your request. You can use the code below but change the API placeholder with your key:"
   ]
  },
  {
   "cell_type": "code",
   "execution_count": null,
   "metadata": {},
   "outputs": [],
   "source": [
    "from fine_tuning_custom_utils.helper import get_cohere_api_key\n",
    "COHERE_API_KEY = get_cohere_api_key()"
   ]
  },
  {
   "cell_type": "code",
   "execution_count": null,
   "metadata": {},
   "outputs": [],
   "source": [
    "import cohere  \n",
    "\n",
    "co = cohere.Client(\"<API_KEY>\")\n",
    "\n",
    "prompt = \"\"\"The following article contains technical terms including diseases, drugs and chemicals. Create a list only of the diseases mentioned.\n",
    "\n",
    "Progressive neurodegeneration of the optic nerve and the loss of retinal ganglion cells is a hallmark of glaucoma, the leading cause of irreversible blindness worldwide, with primary open-angle glaucoma (POAG) being the most frequent form of glaucoma in the Western world. While some genetic mutations have been identified for some glaucomas, those associated with POAG are limited and for most POAG patients, the etiology is still unclear. Unfortunately, treatment of this neurodegenerative disease and other retinal degenerative diseases is lacking. For POAG, most of the treatments focus on reducing aqueous humor formation, enhancing uveoscleral or conventional outflow, or lowering intraocular pressure through surgical means. These efforts, in some cases, do not always lead to a prevention of vision loss and therefore other strategies are needed to reduce or reverse the progressive neurodegeneration. In this review, we will highlight some of the ocular pharmacological approaches that are being tested to reduce neurodegeneration and provide some form of neuroprotection.\n",
    "\n",
    "List of extracted diseases:\"\"\"\n",
    "\n",
    "response = co.generate(  \n",
    "    model='command',  \n",
    "    prompt = prompt,  \n",
    "    max_tokens=200,  \n",
    "    temperature=0.750)\n",
    "\n",
    "base_model = response.generations[0].text\n",
    "\n",
    "print(base_model)"
   ]
  },
  {
   "cell_type": "markdown",
   "metadata": {},
   "source": [
    "    - glaucoma  \n",
    "    - primary open-angle glaucoma"
   ]
  },
  {
   "cell_type": "markdown",
   "metadata": {},
   "source": [
    "The code uses the `cohere.Client()` method to input your API key. The above code also defines the prompt variable, which will contain instructions for the model.\n",
    "\n",
    "The model’s objective for this experiment is to analyze a scientific paper’s abstract from the [PubMed website](https://pubmed.ncbi.nlm.nih.gov/) and identify a list of diseases. The cohere object’s `.generate()` method specifies the model type and provides the prompts and control parameters to achieve this.\n",
    "\n",
    "The `max_tokens` parameter sets the limit for the number of new tokens the model can generate, and the temperature parameter controls the randomness level in the output.\n",
    "\n",
    "The command model can identify diseases without examples or supplementary information.\n"
   ]
  }
 ],
 "metadata": {
  "kernelspec": {
   "display_name": "mastering-fine-tuning",
   "language": "python",
   "name": "python3"
  },
  "language_info": {
   "name": "python",
   "version": "3.12.0"
  }
 },
 "nbformat": 4,
 "nbformat_minor": 2
}
