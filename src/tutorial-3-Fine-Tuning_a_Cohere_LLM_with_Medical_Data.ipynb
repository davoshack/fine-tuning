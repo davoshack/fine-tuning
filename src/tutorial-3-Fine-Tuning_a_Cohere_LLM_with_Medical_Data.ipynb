{
 "cells": [
  {
   "cell_type": "markdown",
   "metadata": {},
   "source": [
    "# Tutorial 3: Fine-Tuning a Cohere LLM with Medical Data\n",
    "\n",
    "• Find the dataset preparation  [Notebook](https://colab.research.google.com/github/towardsai/ragbook-notebooks/blob/main/notebooks/Chapter%2010%20-%20Create_Dataset_For_Cohere_Fine_Tuning.ipynb)  and the fine-tuning  [Notebook](https://colab.research.google.com/github/towardsai/ragbook-notebooks/blob/main/notebooks/Chapter%2010%20-%20Fine_Tuning_using_Cohere_for_Medical_Data.ipynb)  for this section at  [towardsai.net/book](http://towardsai.net/book).\n",
    "\n",
    "Using a proprietary model simplifies the fine-tuning process by simply supplying sample inputs and outputs, with the platform managing the actual fine-tuning. For example, in a classification model, a typical input would be a pair of <text, label>.\n",
    "\n",
    "Cohere offers a range of specialized models for specific use cases and different functions, including  [rerank](https://txt.cohere.com/rerank/),  [embedding](https://docs.cohere.com/docs/multilingual-language-models), and  [chat](https://cohere.com/chat), all accessible via APIs. Users can create  [custom models](https://txt.cohere.com/custom-command-models/)  for three primary objectives: 1) Generative tasks where the model produces text output, 2) Classification tasks where the model categorizes text, and 3) Rerank tasks to improve semantic search results.\n",
    "\n",
    "In this tutorial, we are fine-tuning a proprietary LLM developed by  [Cohere](https://cohere.com/)  for medical text analysis to perform  [Named Entity Recognition (NER)](https://en.wikipedia.org/wiki/Named-entity_recognition). NER enables models to recognize multiple entities in text, such as names, locations, and dates. We will fine-tune a model to extract information about diseases, substances, and their interactions from medical paper abstracts."
   ]
  },
  {
   "cell_type": "markdown",
   "metadata": {},
   "source": [
    "## Cohere API\n",
    "\n",
    "The Cohere platform provides a selection of base models designed for different purposes. You can choose between base models with quicker performance or command models with more advanced capabilities for generative tasks. Each type also has a “light” version for additional flexibility.\n",
    "\n",
    "[Create an account](https://dashboard.cohere.com/welcome/register)  on their platform to use the Cohere API at dashboard.cohere.com. Navigate to the “API Keys” section to obtain a Trial key, which allows free usage with certain rate limitations. This key is not for production environments but offers an excellent opportunity to experiment with the models before using them for production.\n",
    "\n",
    "Install the Cohere Python SDK to access their API:\n",
    "\n",
    "pip install cohere\n",
    "\n",
    "Build a Cohere object with your API key and a prompt to generate a response to your request. You can use the code below but change the API placeholder with your key:\n",
    "\n",
    "    pip install cohere\n",
    "\n",
    "Build a Cohere object with your API key and a prompt to generate a response to your request. You can use the code below but change the API placeholder with your key:"
   ]
  },
  {
   "cell_type": "code",
   "execution_count": null,
   "metadata": {},
   "outputs": [],
   "source": [
    "import json\n",
    "from fine_tuning_custom_utils.helper import get_cohere_api_key\n",
    "COHERE_API_KEY = get_cohere_api_key()"
   ]
  },
  {
   "cell_type": "code",
   "execution_count": null,
   "metadata": {},
   "outputs": [],
   "source": [
    "import cohere  \n",
    "\n",
    "co = cohere.Client(\"<API_KEY>\")\n",
    "\n",
    "prompt = \"\"\"The following article contains technical terms including diseases, drugs and chemicals. Create a list only of the diseases mentioned.\n",
    "\n",
    "Progressive neurodegeneration of the optic nerve and the loss of retinal ganglion cells is a hallmark of glaucoma, the leading cause of irreversible blindness worldwide, with primary open-angle glaucoma (POAG) being the most frequent form of glaucoma in the Western world. While some genetic mutations have been identified for some glaucomas, those associated with POAG are limited and for most POAG patients, the etiology is still unclear. Unfortunately, treatment of this neurodegenerative disease and other retinal degenerative diseases is lacking. For POAG, most of the treatments focus on reducing aqueous humor formation, enhancing uveoscleral or conventional outflow, or lowering intraocular pressure through surgical means. These efforts, in some cases, do not always lead to a prevention of vision loss and therefore other strategies are needed to reduce or reverse the progressive neurodegeneration. In this review, we will highlight some of the ocular pharmacological approaches that are being tested to reduce neurodegeneration and provide some form of neuroprotection.\n",
    "\n",
    "List of extracted diseases:\"\"\"\n",
    "\n",
    "response = co.generate(  \n",
    "    model='command',  \n",
    "    prompt = prompt,  \n",
    "    max_tokens=200,  \n",
    "    temperature=0.750)\n",
    "\n",
    "base_model = response.generations[0].text\n",
    "\n",
    "print(base_model)"
   ]
  },
  {
   "cell_type": "markdown",
   "metadata": {},
   "source": [
    "    - glaucoma  \n",
    "    - primary open-angle glaucoma"
   ]
  },
  {
   "cell_type": "markdown",
   "metadata": {},
   "source": [
    "The code uses the `cohere.Client()` method to input your API key. The above code also defines the prompt variable, which will contain instructions for the model.\n",
    "\n",
    "The model’s objective for this experiment is to analyze a scientific paper’s abstract from the [PubMed website](https://pubmed.ncbi.nlm.nih.gov/) and identify a list of diseases. The cohere object’s `.generate()` method specifies the model type and provides the prompts and control parameters to achieve this.\n",
    "\n",
    "The `max_tokens` parameter sets the limit for the number of new tokens the model can generate, and the temperature parameter controls the randomness level in the output.\n",
    "\n",
    "The command model can identify diseases without examples or supplementary information.\n"
   ]
  },
  {
   "cell_type": "markdown",
   "metadata": {},
   "source": [
    "## The Dataset\n",
    "\n",
    "We will use the  [BC5CDR](https://paperswithcode.com/dataset/bc5cdr)  or BioCreative V Chemical Disease Relation Data. It comprises 1,500 manually annotated PubMed research papers, providing structured information on chemical-disease relations. The dataset is divided into training, validation, and testing sets containing 500 papers.\n",
    "\n",
    "With this experiment, we aim to fine-tune a model that can identify and extract names of diseases/chemicals and their relationships from text. While research papers often describe relationships between chemicals and diseases in their abstracts, this information is typically unstructured. Manually finding “all chemicals influencing disease X” would require reading all papers mentioning “disease X.” Accurately extracting this structured information from unstructured text would facilitate more efficient searches.\n",
    "\n",
    "Preprocess the dataset to adapt it for the Cohere service. It handles three file formats: CSV, JSONL, and plain text. We will use the JSONL format, which is consistent with the template below:"
   ]
  },
  {
   "cell_type": "code",
   "execution_count": null,
   "metadata": {},
   "outputs": [],
   "source": [
    "{\"prompt\": \"This is the first prompt\",\n",
    "\"completion\": \"This is the first completion\"}\n",
    "{\"prompt\": \"This is the second prompt\",\n",
    "\"completion\": \"This is the second completion\"}"
   ]
  },
  {
   "cell_type": "markdown",
   "metadata": {},
   "source": [
    "💡The code is an example showing the extraction of disease names. Our final dataset will contain diseases, chemicals, and their corresponding relationships. We present a single step for extracting disease names to minimize the repetition of code. Please refer to [the notebook](https://colab.research.google.com/github/towardsai/ragbook-notebooks/blob/main/notebooks/Chapter%2010%20-%20Create_Dataset_For_Cohere_Fine_Tuning.ipynb) at [towardsai.net/book](http://towardsai.net/book) for the complete preprocessing procedure and the resulting dataset.\n",
    "\n",
    "Download the dataset in [JSON format](https://github.com/towardsai/rag-ebook-files/blob/main/bc5cdr.json) from [towardsai.net/book](http://towardsai.net/book) and open the JSON file using the code below. We also display a single row (passage) from the dataset to better illustrate the content and help understand the process. Each entry includes a text (which may be either a title or an abstract) and a list of entities that can be classified as either chemicals or diseases. For instance, in the example provided below, the first entity, Naloxone, is recognized as a chemical. The subsequent code will focus only on the information from the abstract, as the titles are short and provide limited details. (The printed output is simplified to improve understanding of the dataset and exclude non-essential information.)"
   ]
  },
  {
   "cell_type": "code",
   "execution_count": null,
   "metadata": {},
   "outputs": [],
   "source": [
    "with open('bc5cdr.json') as json_file:\n",
    "    data = json.load(json_file)\n",
    "\n",
    "print(data[0])"
   ]
  },
  {
   "cell_type": "markdown",
   "metadata": {},
   "source": [
    "    {'passages':  \n",
    "    [{'document_id': '227508',  \n",
    "    '**type**': 'title',  \n",
    "    '**text**': 'Naloxone reverses the antihypertensive effect of clonidine.',  \n",
    "    '**entities**': [  \n",
    "    {'id': '0', 'text': ['Naloxone'], 'type': 'Chemical',},  \n",
    "    {'id': '1', 'text': ['clonidine'], 'type': 'Chemical'}],  \n",
    "    'relations': [...]},  \n",
    "    {'document_id': '227508',  \n",
    "    '**type**': 'abstract',  \n",
    "    '**text**': 'In unanesthetized, spontaneously hypertensive rats the decrease in blood pressure and heart rate produced by intravenous clonidine, 5 to 20 micrograms/kg, was inhibited or reversed by nalozone, 0.2 to 2 mg/kg. The hypotensive effect of 100 mg/kg alpha-methyldopa was also partially reversed by naloxone. Naloxone alone did not affect either blood pressure or heart rate. In brain membranes from spontaneously hypertensive rats clonidine, 10(-8) to 10(-5) M, did not influence stereoselective binding of [3H]-naloxone (8 nM), and naloxone, 10(-8) to 10(-4) M, did not influence clonidine-suppressible binding of [3H]-dihydroergocryptine (1 nM). These findings indicate that in spontaneously hypertensive rats the effects of central alpha-adrenoceptor stimulation involve activation of opiate receptors. As naloxone and clonidine do not appear to interact with the same receptor site, the observed functional antagonism suggests the release of an endogenous opiate by clonidine or alpha-methyldopa and the possible role of the opiate in the central control of sympathetic tone.',  \n",
    "    '**entities**': [  \n",
    "    {'id': '2', 'text': ['hypertensive'], 'type': 'Disease'},  \n",
    "    {'id': '3', 'text': ['clonidine'], 'type': 'Chemical'},  \n",
    "    {'id': '4', 'text': ['nalozone'], 'type': 'Chemical'},  \n",
    "    {'id': '5', 'text': ['hypotensive'], 'type': 'Disease'},  \n",
    "    {'id': '6', 'text': ['alpha-methyldopa'], 'type': 'Chemical'},  \n",
    "    {'id': '7', 'text': ['naloxone'], 'type': 'Chemical'},  \n",
    "    {'id': '8', 'text': ['Naloxone'], 'type': 'Chemical'},  \n",
    "    {'id': '9', 'text': ['hypertensive'], 'type': 'Disease'},  \n",
    "    {'id': '10', 'text': ['clonidine'], 'type': 'Chemical'},  \n",
    "    {'id': '11', 'text': ['[3H]-naloxone'], 'type': 'Chemical'},  \n",
    "    {'id': '12', 'text': ['naloxone'], 'type': 'Chemical'},  \n",
    "    {'id': '13', 'text': ['clonidine'], 'type': 'Chemical'},  \n",
    "    {'id': '14', 'text': ['[3H]-dihydroergocryptine'], 'type': 'Chemical'},  \n",
    "    {'id': '15', 'text': ['hypertensive'], 'type': 'Disease'},  \n",
    "    {'id': '16', 'text': ['naloxone'], 'type': 'Chemical',},  \n",
    "    {'id': '17', 'text': ['clonidine'], 'type': 'Chemical'},  \n",
    "    {'id': '18', 'text': ['clonidine'], 'type': 'Chemical'},  \n",
    "    {'id': '19', 'text': ['alpha-methyldopa'], 'type': 'Chemical'}],  \n",
    "    'relations': [...]}],  \n",
    "    'dataset_type': 'train'}\n"
   ]
  },
  {
   "cell_type": "markdown",
   "metadata": {},
   "source": [
    "We can loop through the dataset, extracting abstracts and related entities while including training instructions. There are two sets of instructions: the first helps the model understand the job, and the second shows how to construct the response:"
   ]
  },
  {
   "cell_type": "code",
   "execution_count": null,
   "metadata": {},
   "outputs": [],
   "source": [
    "instruction = \"The following article contains technical terms including diseases, drugs and chemicals. Create a list only of the diseases mentioned.\\n\\n\"\n",
    "output_instruction = \"\\n\\nList of extracted diseases:\\n\""
   ]
  },
  {
   "cell_type": "markdown",
   "metadata": {},
   "source": [
    "The `instruction` variable sets the rules, and the `output_instruction` specifies the intended format for the output. Now, cycle through the dataset and format each instance:"
   ]
  },
  {
   "cell_type": "code",
   "execution_count": null,
   "metadata": {},
   "outputs": [],
   "source": [
    "the_list = []\n",
    "for item in data:\n",
    "  chems = []\n",
    "  dis = []\n",
    "\n",
    "  if item['dataset_type'] == \"test\": continue;\n",
    "\n",
    "  for ent in item['passages'][1]['entities']:\n",
    "    if ent['type'] == \"Chemical\":\n",
    "      if ent['text'][0] not in chems:\n",
    "        chems.append( ent['text'][0] )\n",
    "\n",
    "    if ent['type'] == \"Disease\":\n",
    "      if ent['text'][0] not in dis:\n",
    "        dis.append( ent['text'][0] )"
   ]
  },
  {
   "cell_type": "markdown",
   "metadata": {},
   "source": [
    "Preparing each sample from the dataset requires iterating through all annotations and selecting only those related to diseases. This is necessary because the dataset also contains additional chemical labels. This will result in a dictionary with two keys: `prompt` and `completion`. The prompt key will consist of the paper abstract combined with specific instructions, and the `completion` key will list each disease name on a separate line.\n",
    "\n",
    "This code will convert and save the dataset in JSONL format:"
   ]
  },
  {
   "cell_type": "code",
   "execution_count": null,
   "metadata": {},
   "outputs": [],
   "source": [
    "# Writing to sample.json\n",
    "with open(\"disease_instruct_all.jsonl\", \"w\") as outfile:\n",
    "  for item in the_list:\n",
    "    outfile.write(json.dumps(item) + \"\\n\")"
   ]
  },
  {
   "cell_type": "markdown",
   "metadata": {},
   "source": [
    "The processed dataset is saved in a file named `disease_instruct_all.jsonl`. This file combines the training and validation sets to create 1,000 samples. The complete dataset comprises 3,000 samples, divided into three categories: 1,000 for diseases, 1,000 for chemicals, and 1,000 for their relationships.\n",
    "\n",
    "💡The link to the final [preprocessed dataset](https://github.com/towardsai/rag-ebook-files/blob/main/both_rel_instruct_all.jsonl) is accessible at [towardsai.net/book](http://towardsai.net/book)."
   ]
  }
 ],
 "metadata": {
  "kernelspec": {
   "display_name": "mastering-fine-tuning",
   "language": "python",
   "name": "python3"
  },
  "language_info": {
   "name": "python",
   "version": "3.12.0"
  }
 },
 "nbformat": 4,
 "nbformat_minor": 2
}
