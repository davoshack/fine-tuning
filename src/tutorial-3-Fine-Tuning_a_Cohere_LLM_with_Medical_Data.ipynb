{
 "cells": [
  {
   "cell_type": "markdown",
   "metadata": {},
   "source": [
    "# Tutorial 3: Fine-Tuning a Cohere LLM with Medical Data\n",
    "\n",
    "• Find the dataset preparation  [Notebook](https://colab.research.google.com/github/towardsai/ragbook-notebooks/blob/main/notebooks/Chapter%2010%20-%20Create_Dataset_For_Cohere_Fine_Tuning.ipynb)  and the fine-tuning  [Notebook](https://colab.research.google.com/github/towardsai/ragbook-notebooks/blob/main/notebooks/Chapter%2010%20-%20Fine_Tuning_using_Cohere_for_Medical_Data.ipynb)  for this section at  [towardsai.net/book](http://towardsai.net/book).\n",
    "\n",
    "Using a proprietary model simplifies the fine-tuning process by simply supplying sample inputs and outputs, with the platform managing the actual fine-tuning. For example, in a classification model, a typical input would be a pair of <text, label>.\n",
    "\n",
    "Cohere offers a range of specialized models for specific use cases and different functions, including  [rerank](https://txt.cohere.com/rerank/),  [embedding](https://docs.cohere.com/docs/multilingual-language-models), and  [chat](https://cohere.com/chat), all accessible via APIs. Users can create  [custom models](https://txt.cohere.com/custom-command-models/)  for three primary objectives: 1) Generative tasks where the model produces text output, 2) Classification tasks where the model categorizes text, and 3) Rerank tasks to improve semantic search results.\n",
    "\n",
    "In this tutorial, we are fine-tuning a proprietary LLM developed by  [Cohere](https://cohere.com/)  for medical text analysis to perform  [Named Entity Recognition (NER)](https://en.wikipedia.org/wiki/Named-entity_recognition). NER enables models to recognize multiple entities in text, such as names, locations, and dates. We will fine-tune a model to extract information about diseases, substances, and their interactions from medical paper abstracts."
   ]
  }
 ],
 "metadata": {
  "language_info": {
   "name": "python"
  }
 },
 "nbformat": 4,
 "nbformat_minor": 2
}
